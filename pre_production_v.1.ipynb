{
 "cells": [
  {
   "cell_type": "code",
   "execution_count": 3,
   "metadata": {},
   "outputs": [],
   "source": [
    "#hide\n",
    "#!pip install voila\n",
    "#!jupyter serverextension enable --sys-prefix voila\n"
   ]
  },
  {
   "cell_type": "code",
   "execution_count": 1,
   "metadata": {},
   "outputs": [],
   "source": [
    "import pandas as pd\n",
    "import numpy as np"
   ]
  },
  {
   "cell_type": "code",
   "execution_count": 2,
   "metadata": {},
   "outputs": [],
   "source": [
    "import xgboost as xgb\n",
    "import pickle as pic"
   ]
  },
  {
   "cell_type": "code",
   "execution_count": 3,
   "metadata": {},
   "outputs": [],
   "source": [
    "from atgfe.GeneticFeatureEngineer import GeneticFeatureEngineer\n",
    "import pandas as pd\n",
    "import numpy as np\n",
    "from sklearn.model_selection import train_test_split, cross_val_score\n",
    "from sklearn.linear_model import LogisticRegression\n",
    "from sklearn.preprocessing import StandardScaler, OneHotEncoder\n",
    "from sklearn.pipeline import make_pipeline\n",
    "from sklearn.compose import make_column_transformer\n",
    "from sklearn.metrics import accuracy_score, make_scorer, balanced_accuracy_score, recall_score\n",
    "#from yellowbrick.classifier import ClassificationReport, ConfusionMatrix, ROCAUC, PrecisionRecallCurve\n",
    "from lightgbm import LGBMClassifier\n",
    "from sklearn import datasets"
   ]
  },
  {
   "cell_type": "code",
   "execution_count": 4,
   "metadata": {},
   "outputs": [],
   "source": [
    "df=pd.read_csv('ssd_raw_rul.csv').drop(columns=['cycle'])"
   ]
  },
  {
   "cell_type": "code",
   "execution_count": 5,
   "metadata": {},
   "outputs": [
    {
     "data": {
      "text/plain": [
       "(2517, 20)"
      ]
     },
     "execution_count": 5,
     "metadata": {},
     "output_type": "execute_result"
    }
   ],
   "source": [
    "df.shape"
   ]
  },
  {
   "cell_type": "code",
   "execution_count": 6,
   "metadata": {},
   "outputs": [],
   "source": [
    "df['target'] = np.where(df['RUL']<=30,1,0)"
   ]
  },
  {
   "cell_type": "code",
   "execution_count": 7,
   "metadata": {},
   "outputs": [],
   "source": [
    "df.drop(columns=['RUL'],inplace=True)"
   ]
  },
  {
   "cell_type": "code",
   "execution_count": 8,
   "metadata": {},
   "outputs": [],
   "source": [
    "test_serial=['NB1208TA', '7LZ021NC', '7LZ022BP', 'S35UNX0J104426B', 'S35UNX0J104414Y', 'S35UNX0J105329E' ]"
   ]
  },
  {
   "cell_type": "code",
   "execution_count": 9,
   "metadata": {},
   "outputs": [],
   "source": [
    "df_train=df[~df['serial_number'].isin(test_serial)]"
   ]
  },
  {
   "cell_type": "code",
   "execution_count": 10,
   "metadata": {},
   "outputs": [],
   "source": [
    "df_test=df[df['serial_number'].isin(test_serial)]"
   ]
  },
  {
   "cell_type": "code",
   "execution_count": 11,
   "metadata": {},
   "outputs": [
    {
     "data": {
      "text/plain": [
       "0.17139408569704284"
      ]
     },
     "execution_count": 11,
     "metadata": {},
     "output_type": "execute_result"
    }
   ],
   "source": [
    "df_train.target.mean()"
   ]
  },
  {
   "cell_type": "code",
   "execution_count": 12,
   "metadata": {},
   "outputs": [
    {
     "data": {
      "text/plain": [
       "0.1941860465116279"
      ]
     },
     "execution_count": 12,
     "metadata": {},
     "output_type": "execute_result"
    }
   ],
   "source": [
    "df_test.target.mean()"
   ]
  },
  {
   "cell_type": "code",
   "execution_count": 13,
   "metadata": {},
   "outputs": [
    {
     "data": {
      "text/html": [
       "<div>\n",
       "<style scoped>\n",
       "    .dataframe tbody tr th:only-of-type {\n",
       "        vertical-align: middle;\n",
       "    }\n",
       "\n",
       "    .dataframe tbody tr th {\n",
       "        vertical-align: top;\n",
       "    }\n",
       "\n",
       "    .dataframe thead th {\n",
       "        text-align: right;\n",
       "    }\n",
       "</style>\n",
       "<table border=\"1\" class=\"dataframe\">\n",
       "  <thead>\n",
       "    <tr style=\"text-align: right;\">\n",
       "      <th></th>\n",
       "      <th>serial_number</th>\n",
       "      <th>smart_1_raw</th>\n",
       "      <th>smart_5_raw</th>\n",
       "      <th>smart_9_raw_x</th>\n",
       "      <th>smart_12_raw</th>\n",
       "      <th>smart_183_raw</th>\n",
       "      <th>smart_184_raw</th>\n",
       "      <th>smart_187_raw</th>\n",
       "      <th>smart_188_raw</th>\n",
       "      <th>smart_190_raw</th>\n",
       "      <th>smart_192_raw</th>\n",
       "      <th>smart_194_raw</th>\n",
       "      <th>smart_195_raw</th>\n",
       "      <th>smart_196_raw</th>\n",
       "      <th>smart_197_raw</th>\n",
       "      <th>smart_198_raw</th>\n",
       "      <th>smart_199_raw</th>\n",
       "      <th>smart_241_raw</th>\n",
       "      <th>smart_242_raw</th>\n",
       "      <th>target</th>\n",
       "    </tr>\n",
       "  </thead>\n",
       "  <tbody>\n",
       "    <tr>\n",
       "      <th>293</th>\n",
       "      <td>7LZ021NC</td>\n",
       "      <td>0.0</td>\n",
       "      <td>NaN</td>\n",
       "      <td>206</td>\n",
       "      <td>4</td>\n",
       "      <td>NaN</td>\n",
       "      <td>NaN</td>\n",
       "      <td>NaN</td>\n",
       "      <td>NaN</td>\n",
       "      <td>NaN</td>\n",
       "      <td>1.0</td>\n",
       "      <td>39.0</td>\n",
       "      <td>NaN</td>\n",
       "      <td>NaN</td>\n",
       "      <td>NaN</td>\n",
       "      <td>NaN</td>\n",
       "      <td>NaN</td>\n",
       "      <td>333</td>\n",
       "      <td>7.0</td>\n",
       "      <td>0</td>\n",
       "    </tr>\n",
       "    <tr>\n",
       "      <th>294</th>\n",
       "      <td>7LZ021NC</td>\n",
       "      <td>0.0</td>\n",
       "      <td>NaN</td>\n",
       "      <td>230</td>\n",
       "      <td>4</td>\n",
       "      <td>NaN</td>\n",
       "      <td>NaN</td>\n",
       "      <td>NaN</td>\n",
       "      <td>NaN</td>\n",
       "      <td>NaN</td>\n",
       "      <td>1.0</td>\n",
       "      <td>38.0</td>\n",
       "      <td>NaN</td>\n",
       "      <td>NaN</td>\n",
       "      <td>NaN</td>\n",
       "      <td>NaN</td>\n",
       "      <td>NaN</td>\n",
       "      <td>448</td>\n",
       "      <td>7.0</td>\n",
       "      <td>0</td>\n",
       "    </tr>\n",
       "    <tr>\n",
       "      <th>295</th>\n",
       "      <td>7LZ021NC</td>\n",
       "      <td>0.0</td>\n",
       "      <td>NaN</td>\n",
       "      <td>254</td>\n",
       "      <td>4</td>\n",
       "      <td>NaN</td>\n",
       "      <td>NaN</td>\n",
       "      <td>NaN</td>\n",
       "      <td>NaN</td>\n",
       "      <td>NaN</td>\n",
       "      <td>1.0</td>\n",
       "      <td>36.0</td>\n",
       "      <td>NaN</td>\n",
       "      <td>NaN</td>\n",
       "      <td>NaN</td>\n",
       "      <td>NaN</td>\n",
       "      <td>NaN</td>\n",
       "      <td>559</td>\n",
       "      <td>8.0</td>\n",
       "      <td>0</td>\n",
       "    </tr>\n",
       "    <tr>\n",
       "      <th>296</th>\n",
       "      <td>7LZ021NC</td>\n",
       "      <td>0.0</td>\n",
       "      <td>NaN</td>\n",
       "      <td>279</td>\n",
       "      <td>4</td>\n",
       "      <td>NaN</td>\n",
       "      <td>NaN</td>\n",
       "      <td>NaN</td>\n",
       "      <td>NaN</td>\n",
       "      <td>NaN</td>\n",
       "      <td>1.0</td>\n",
       "      <td>35.0</td>\n",
       "      <td>NaN</td>\n",
       "      <td>NaN</td>\n",
       "      <td>NaN</td>\n",
       "      <td>NaN</td>\n",
       "      <td>NaN</td>\n",
       "      <td>676</td>\n",
       "      <td>8.0</td>\n",
       "      <td>0</td>\n",
       "    </tr>\n",
       "    <tr>\n",
       "      <th>297</th>\n",
       "      <td>7LZ021NC</td>\n",
       "      <td>0.0</td>\n",
       "      <td>NaN</td>\n",
       "      <td>302</td>\n",
       "      <td>4</td>\n",
       "      <td>NaN</td>\n",
       "      <td>NaN</td>\n",
       "      <td>NaN</td>\n",
       "      <td>NaN</td>\n",
       "      <td>NaN</td>\n",
       "      <td>1.0</td>\n",
       "      <td>32.0</td>\n",
       "      <td>NaN</td>\n",
       "      <td>NaN</td>\n",
       "      <td>NaN</td>\n",
       "      <td>NaN</td>\n",
       "      <td>NaN</td>\n",
       "      <td>787</td>\n",
       "      <td>8.0</td>\n",
       "      <td>0</td>\n",
       "    </tr>\n",
       "  </tbody>\n",
       "</table>\n",
       "</div>"
      ],
      "text/plain": [
       "    serial_number  smart_1_raw  smart_5_raw  smart_9_raw_x  smart_12_raw  \\\n",
       "293      7LZ021NC          0.0          NaN            206             4   \n",
       "294      7LZ021NC          0.0          NaN            230             4   \n",
       "295      7LZ021NC          0.0          NaN            254             4   \n",
       "296      7LZ021NC          0.0          NaN            279             4   \n",
       "297      7LZ021NC          0.0          NaN            302             4   \n",
       "\n",
       "     smart_183_raw  smart_184_raw  smart_187_raw  smart_188_raw  \\\n",
       "293            NaN            NaN            NaN            NaN   \n",
       "294            NaN            NaN            NaN            NaN   \n",
       "295            NaN            NaN            NaN            NaN   \n",
       "296            NaN            NaN            NaN            NaN   \n",
       "297            NaN            NaN            NaN            NaN   \n",
       "\n",
       "     smart_190_raw  smart_192_raw  smart_194_raw  smart_195_raw  \\\n",
       "293            NaN            1.0           39.0            NaN   \n",
       "294            NaN            1.0           38.0            NaN   \n",
       "295            NaN            1.0           36.0            NaN   \n",
       "296            NaN            1.0           35.0            NaN   \n",
       "297            NaN            1.0           32.0            NaN   \n",
       "\n",
       "     smart_196_raw  smart_197_raw  smart_198_raw  smart_199_raw  \\\n",
       "293            NaN            NaN            NaN            NaN   \n",
       "294            NaN            NaN            NaN            NaN   \n",
       "295            NaN            NaN            NaN            NaN   \n",
       "296            NaN            NaN            NaN            NaN   \n",
       "297            NaN            NaN            NaN            NaN   \n",
       "\n",
       "     smart_241_raw  smart_242_raw  target  \n",
       "293            333            7.0       0  \n",
       "294            448            7.0       0  \n",
       "295            559            8.0       0  \n",
       "296            676            8.0       0  \n",
       "297            787            8.0       0  "
      ]
     },
     "execution_count": 13,
     "metadata": {},
     "output_type": "execute_result"
    }
   ],
   "source": [
    "df_test.head()"
   ]
  },
  {
   "cell_type": "code",
   "execution_count": null,
   "metadata": {},
   "outputs": [],
   "source": []
  },
  {
   "cell_type": "code",
   "execution_count": 14,
   "metadata": {},
   "outputs": [],
   "source": [
    "def drop_missings(df, thresh=0.9):\n",
    "    percent_missing = df.isnull().sum() / len(df)\n",
    "    missing_value_df = pd.DataFrame({'column_name': df.columns,\n",
    "                                     'percent_missing': percent_missing})\n",
    "\n",
    "    return missing_value_df[percent_missing<=thresh]['column_name'].tolist()\n",
    "# drop_missings(df_train)"
   ]
  },
  {
   "cell_type": "code",
   "execution_count": 15,
   "metadata": {},
   "outputs": [],
   "source": [
    "def correlation(dataset, threshold=0.1):\n",
    "    col_corr = set()  # Set of all the names of correlated columns\n",
    "    corr_matrix = dataset.corr()\n",
    "    for i in range(len(corr_matrix.columns)):\n",
    "        for j in range(i):\n",
    "            if abs(corr_matrix.iloc[i, j]) > threshold: # we are interested in absolute coeff value\n",
    "                colname = corr_matrix.columns[i]  # getting the name of column\n",
    "                col_corr.add(colname)\n",
    "    return col_corr"
   ]
  },
  {
   "cell_type": "code",
   "execution_count": 16,
   "metadata": {},
   "outputs": [],
   "source": [
    "def fill_missings(df_first,df_second):\n",
    "    return df_first.fillna(df_second.median())"
   ]
  },
  {
   "cell_type": "code",
   "execution_count": 17,
   "metadata": {},
   "outputs": [],
   "source": [
    "train_columns = drop_missings(df_train)"
   ]
  },
  {
   "cell_type": "code",
   "execution_count": 18,
   "metadata": {},
   "outputs": [],
   "source": [
    "df_train_noncor_columns = sorted(correlation(df_train[train_columns]))\n"
   ]
  },
  {
   "cell_type": "code",
   "execution_count": 19,
   "metadata": {},
   "outputs": [],
   "source": [
    "df_train_preprocessed = fill_missings(df_train[df_train_noncor_columns],df_train[df_train_noncor_columns])"
   ]
  },
  {
   "cell_type": "code",
   "execution_count": 20,
   "metadata": {},
   "outputs": [],
   "source": [
    "df_test_preprocessed = fill_missings(df_test[df_train_noncor_columns],df_train[df_train_noncor_columns])"
   ]
  },
  {
   "cell_type": "code",
   "execution_count": 21,
   "metadata": {},
   "outputs": [],
   "source": [
    "from xgboost import XGBClassifier"
   ]
  },
  {
   "cell_type": "code",
   "execution_count": 22,
   "metadata": {},
   "outputs": [],
   "source": [
    "X_train=df_train_preprocessed.drop('target', axis=1)"
   ]
  },
  {
   "cell_type": "code",
   "execution_count": 23,
   "metadata": {},
   "outputs": [],
   "source": [
    "X_test=df_test_preprocessed.drop('target', axis=1)"
   ]
  },
  {
   "cell_type": "code",
   "execution_count": 24,
   "metadata": {},
   "outputs": [],
   "source": [
    "y_train=df_train_preprocessed['target']"
   ]
  },
  {
   "cell_type": "code",
   "execution_count": 25,
   "metadata": {},
   "outputs": [],
   "source": [
    "y_test=df_test_preprocessed['target']"
   ]
  },
  {
   "cell_type": "code",
   "execution_count": 26,
   "metadata": {},
   "outputs": [],
   "source": [
    "def micro_recall_score(y_true, y_pred):\n",
    "    return recall_score(y_true, y_pred, average='micro')"
   ]
  },
  {
   "cell_type": "code",
   "execution_count": 27,
   "metadata": {},
   "outputs": [
    {
     "data": {
      "text/html": [
       "<div>\n",
       "<style scoped>\n",
       "    .dataframe tbody tr th:only-of-type {\n",
       "        vertical-align: middle;\n",
       "    }\n",
       "\n",
       "    .dataframe tbody tr th {\n",
       "        vertical-align: top;\n",
       "    }\n",
       "\n",
       "    .dataframe thead th {\n",
       "        text-align: right;\n",
       "    }\n",
       "</style>\n",
       "<table border=\"1\" class=\"dataframe\">\n",
       "  <thead>\n",
       "    <tr style=\"text-align: right;\">\n",
       "      <th></th>\n",
       "      <th>smart_12_raw</th>\n",
       "      <th>smart_192_raw</th>\n",
       "      <th>smart_194_raw</th>\n",
       "      <th>smart_241_raw</th>\n",
       "      <th>smart_242_raw</th>\n",
       "    </tr>\n",
       "  </thead>\n",
       "  <tbody>\n",
       "    <tr>\n",
       "      <th>0</th>\n",
       "      <td>5</td>\n",
       "      <td>3.0</td>\n",
       "      <td>34.0</td>\n",
       "      <td>733</td>\n",
       "      <td>9.0</td>\n",
       "    </tr>\n",
       "    <tr>\n",
       "      <th>1</th>\n",
       "      <td>5</td>\n",
       "      <td>3.0</td>\n",
       "      <td>29.0</td>\n",
       "      <td>834</td>\n",
       "      <td>9.0</td>\n",
       "    </tr>\n",
       "    <tr>\n",
       "      <th>2</th>\n",
       "      <td>5</td>\n",
       "      <td>3.0</td>\n",
       "      <td>27.0</td>\n",
       "      <td>924</td>\n",
       "      <td>9.0</td>\n",
       "    </tr>\n",
       "    <tr>\n",
       "      <th>3</th>\n",
       "      <td>5</td>\n",
       "      <td>3.0</td>\n",
       "      <td>32.0</td>\n",
       "      <td>987</td>\n",
       "      <td>9.0</td>\n",
       "    </tr>\n",
       "    <tr>\n",
       "      <th>4</th>\n",
       "      <td>5</td>\n",
       "      <td>3.0</td>\n",
       "      <td>27.0</td>\n",
       "      <td>1118</td>\n",
       "      <td>9.0</td>\n",
       "    </tr>\n",
       "  </tbody>\n",
       "</table>\n",
       "</div>"
      ],
      "text/plain": [
       "   smart_12_raw  smart_192_raw  smart_194_raw  smart_241_raw  smart_242_raw\n",
       "0             5            3.0           34.0            733            9.0\n",
       "1             5            3.0           29.0            834            9.0\n",
       "2             5            3.0           27.0            924            9.0\n",
       "3             5            3.0           32.0            987            9.0\n",
       "4             5            3.0           27.0           1118            9.0"
      ]
     },
     "execution_count": 27,
     "metadata": {},
     "output_type": "execute_result"
    }
   ],
   "source": [
    "X_train.head()"
   ]
  },
  {
   "cell_type": "code",
   "execution_count": 28,
   "metadata": {},
   "outputs": [],
   "source": [
    "numerical_features = X_train.columns.tolist()"
   ]
  },
  {
   "cell_type": "code",
   "execution_count": null,
   "metadata": {},
   "outputs": [],
   "source": []
  },
  {
   "cell_type": "code",
   "execution_count": 29,
   "metadata": {},
   "outputs": [],
   "source": [
    "def create_new_model():\n",
    "    model = make_pipeline(StandardScaler(), LogisticRegression(random_state=77, n_jobs=-1, solver='saga'))\n",
    "    return model"
   ]
  },
  {
   "cell_type": "code",
   "execution_count": 30,
   "metadata": {},
   "outputs": [],
   "source": [
    "model = create_new_model()"
   ]
  },
  {
   "cell_type": "code",
   "execution_count": 31,
   "metadata": {},
   "outputs": [
    {
     "name": "stderr",
     "output_type": "stream",
     "text": [
      "2021-03-13 08:08:23,811:INFO: New Engineer created with the following parameters: \n",
      "2021-03-13 08:08:23,813:INFO: \n",
      "Model type: <class 'sklearn.pipeline.Pipeline'>\n",
      "Numerical Features: ['smart_12_raw', 'smart_192_raw', 'smart_194_raw', 'smart_241_raw', 'smart_242_raw']\n",
      "Number of candidate features: 2\n",
      "Number of interacting features: 5\n",
      "Evaluation Metric: micro_recall_score\n",
      "Minimize metric is False \n"
     ]
    }
   ],
   "source": [
    "gfe = GeneticFeatureEngineer(model, x_train=X_train, y_train=y_train, numerical_features=numerical_features,\n",
    "                             number_of_candidate_features=2, number_of_interacting_features=5,\n",
    "                             evaluation_metric=micro_recall_score, minimize_metric=False, enable_weights=True,\n",
    "                             n_jobs=62, cross_validation_in_objective_func=True, objective_func_cv=3)"
   ]
  },
  {
   "cell_type": "code",
   "execution_count": 32,
   "metadata": {},
   "outputs": [
    {
     "name": "stdout",
     "output_type": "stream",
     "text": [
      "Start of evolution\n",
      "   \t      \t                                                            fitness                                                            \n",
      "   \t      \t-------------------------------------------------------------------------------------------------------------------------------\n",
      "gen\tnevals\tavg     \tbest_val_score\tgen\tgen_val_score\tmax     \tmin     \tnevals\tstd      \ttime_in_seconds\n",
      "0  \t5     \t0.818198\tnan           \t0  \tnan          \t0.870248\t0.687275\t5     \t0.0719787\tnan            \n",
      "1  \t100   \t0.871092\t0.893961      \t1  \t0.893961     \t0.874467\t0.870248\t100   \t0.00168776\t4.45781        \n",
      "2  \t100   \t0.874467\t0.893961      \t2  \t0.881322     \t0.874467\t0.874467\t100   \t1.11022e-16\t1.87923        \n",
      "3  \t100   \t0.874467\t0.893961      \t3  \t0.881322     \t0.874467\t0.874467\t100   \t1.11022e-16\t2.17291        \n",
      "4  \t100   \t0.874467\t0.893961      \t4  \t0.881322     \t0.874467\t0.874467\t100   \t1.11022e-16\t2.02259        \n",
      "-- End of (successful) evolution --\n",
      "Best validation score: 0.8939612997444323\n",
      "All columns: ['smart_12_raw', 'smart_192_raw', 'smart_194_raw', 'smart_241_raw', 'smart_242_raw', '0.5*smart_12_raw - 0.99*smart_242_raw', '-1.04*smart_192_raw + 0.67*smart_241_raw']\n"
     ]
    }
   ],
   "source": [
    "gfe.fit(mu=5, lambda_=100, early_stopping_patience=4, mutation_probability=0.4, crossover_probability=0.6)"
   ]
  },
  {
   "cell_type": "code",
   "execution_count": 34,
   "metadata": {},
   "outputs": [],
   "source": [
    "new_X_train = gfe.transform(X_train)\n",
    "new_X_test = gfe.transform(X_test)"
   ]
  },
  {
   "cell_type": "code",
   "execution_count": 37,
   "metadata": {},
   "outputs": [
    {
     "data": {
      "text/html": [
       "<div>\n",
       "<style scoped>\n",
       "    .dataframe tbody tr th:only-of-type {\n",
       "        vertical-align: middle;\n",
       "    }\n",
       "\n",
       "    .dataframe tbody tr th {\n",
       "        vertical-align: top;\n",
       "    }\n",
       "\n",
       "    .dataframe thead th {\n",
       "        text-align: right;\n",
       "    }\n",
       "</style>\n",
       "<table border=\"1\" class=\"dataframe\">\n",
       "  <thead>\n",
       "    <tr style=\"text-align: right;\">\n",
       "      <th></th>\n",
       "      <th>smart_12_raw</th>\n",
       "      <th>smart_192_raw</th>\n",
       "      <th>smart_194_raw</th>\n",
       "      <th>smart_241_raw</th>\n",
       "      <th>smart_242_raw</th>\n",
       "      <th>0.5*smart_12_raw - 0.99*smart_242_raw</th>\n",
       "      <th>-1.04*smart_192_raw + 0.67*smart_241_raw</th>\n",
       "      <th>target</th>\n",
       "    </tr>\n",
       "  </thead>\n",
       "  <tbody>\n",
       "    <tr>\n",
       "      <th>0</th>\n",
       "      <td>5</td>\n",
       "      <td>3.0</td>\n",
       "      <td>34.0</td>\n",
       "      <td>733</td>\n",
       "      <td>9.0</td>\n",
       "      <td>-6.41</td>\n",
       "      <td>487.99</td>\n",
       "      <td>0</td>\n",
       "    </tr>\n",
       "    <tr>\n",
       "      <th>1</th>\n",
       "      <td>5</td>\n",
       "      <td>3.0</td>\n",
       "      <td>29.0</td>\n",
       "      <td>834</td>\n",
       "      <td>9.0</td>\n",
       "      <td>-6.41</td>\n",
       "      <td>555.66</td>\n",
       "      <td>0</td>\n",
       "    </tr>\n",
       "    <tr>\n",
       "      <th>2</th>\n",
       "      <td>5</td>\n",
       "      <td>3.0</td>\n",
       "      <td>27.0</td>\n",
       "      <td>924</td>\n",
       "      <td>9.0</td>\n",
       "      <td>-6.41</td>\n",
       "      <td>615.96</td>\n",
       "      <td>0</td>\n",
       "    </tr>\n",
       "    <tr>\n",
       "      <th>3</th>\n",
       "      <td>5</td>\n",
       "      <td>3.0</td>\n",
       "      <td>32.0</td>\n",
       "      <td>987</td>\n",
       "      <td>9.0</td>\n",
       "      <td>-6.41</td>\n",
       "      <td>658.17</td>\n",
       "      <td>0</td>\n",
       "    </tr>\n",
       "    <tr>\n",
       "      <th>4</th>\n",
       "      <td>5</td>\n",
       "      <td>3.0</td>\n",
       "      <td>27.0</td>\n",
       "      <td>1118</td>\n",
       "      <td>9.0</td>\n",
       "      <td>-6.41</td>\n",
       "      <td>745.94</td>\n",
       "      <td>0</td>\n",
       "    </tr>\n",
       "  </tbody>\n",
       "</table>\n",
       "</div>"
      ],
      "text/plain": [
       "   smart_12_raw  smart_192_raw  smart_194_raw  smart_241_raw  smart_242_raw  \\\n",
       "0             5            3.0           34.0            733            9.0   \n",
       "1             5            3.0           29.0            834            9.0   \n",
       "2             5            3.0           27.0            924            9.0   \n",
       "3             5            3.0           32.0            987            9.0   \n",
       "4             5            3.0           27.0           1118            9.0   \n",
       "\n",
       "   0.5*smart_12_raw - 0.99*smart_242_raw  \\\n",
       "0                                  -6.41   \n",
       "1                                  -6.41   \n",
       "2                                  -6.41   \n",
       "3                                  -6.41   \n",
       "4                                  -6.41   \n",
       "\n",
       "   -1.04*smart_192_raw + 0.67*smart_241_raw  target  \n",
       "0                                    487.99       0  \n",
       "1                                    555.66       0  \n",
       "2                                    615.96       0  \n",
       "3                                    658.17       0  \n",
       "4                                    745.94       0  "
      ]
     },
     "execution_count": 37,
     "metadata": {},
     "output_type": "execute_result"
    }
   ],
   "source": [
    "df_train.head()"
   ]
  },
  {
   "cell_type": "code",
   "execution_count": 35,
   "metadata": {},
   "outputs": [],
   "source": [
    "df_train=pd.merge(new_X_train, y_train, right_index=True, left_index=True)"
   ]
  },
  {
   "cell_type": "code",
   "execution_count": 36,
   "metadata": {},
   "outputs": [],
   "source": [
    "df_test=pd.merge(new_X_test, y_test, right_index=True, left_index=True)"
   ]
  },
  {
   "cell_type": "code",
   "execution_count": null,
   "metadata": {},
   "outputs": [],
   "source": [
    "df_train.to_csv('preprocessed_training.csv')"
   ]
  },
  {
   "cell_type": "code",
   "execution_count": null,
   "metadata": {},
   "outputs": [],
   "source": [
    "df_test.to_csv('preprocessed_testing.csv')"
   ]
  },
  {
   "cell_type": "code",
   "execution_count": 40,
   "metadata": {},
   "outputs": [
    {
     "data": {
      "text/plain": [
       "XGBClassifier(Lambda=1.0, alpha=1.0, base_score=0.5, booster='gbtree',\n",
       "              colsample_bylevel=0.6257870129287602, colsample_bynode=1,\n",
       "              colsample_bytree=1.0, eta=0.3598670326139477,\n",
       "              eval_metric='logloss', gamma=0.0, gpu_id=-1,\n",
       "              importance_type='gain', interaction_constraints='',\n",
       "              learning_rate=0.359867036, max_delta_step=0, max_depth=8,\n",
       "              min_child_weight=1.0, missing=None, monotone_constraints='()',\n",
       "              n_estimators=81, n_jobs=8, num_parallel_tree=1, random_state=55,\n",
       "              reg_alpha=1, reg_lambda=1, scale_pos_weight=1, subsample=1.0,\n",
       "              tree_method='exact', validate_parameters=1, verbosity=None)"
      ]
     },
     "execution_count": 40,
     "metadata": {},
     "output_type": "execute_result"
    }
   ],
   "source": []
  },
  {
   "cell_type": "code",
   "execution_count": null,
   "metadata": {},
   "outputs": [],
   "source": [
    "{\"eta\": 0.4239918665490173\t \"max_depth\": 9\t \"gamma\": 0.0\t \"min_child_weight\": 0.6718580108570116\t \"subsample\": 1.0\t \"colsample_bytree\": 1.0\t \"colsample_bylevel\": 1.0\t \"lambda\": 0.8252195466502932\t \"alpha\": 0.4637029911175976\t \"n_estimators\": 9}\n"
   ]
  },
  {
   "cell_type": "code",
   "execution_count": 41,
   "metadata": {},
   "outputs": [],
   "source": [
    "model = XGBClassifier(alpha=1.0, base_score=0.5, booster='gbtree',\n",
    "              colsample_bylevel=0.6257870129287602, colsample_bynode=1,\n",
    "              colsample_bytree=1.0, eta=0.3598670326139477,\n",
    "              eval_metric='logloss', gamma=0.0, gpu_id=-1,\n",
    "              importance_type='gain', interaction_constraints='', Lambda=1.0,\n",
    "              learning_rate=0.359867036, max_delta_step=0, max_depth=8,\n",
    "              min_child_weight=1.0, missing=None, monotone_constraints='()',\n",
    "              n_estimators=81, n_jobs=8, num_parallel_tree=1, random_state=55,\n",
    "              reg_alpha=1, reg_lambda=1, scale_pos_weight=1, subsample=1.0,\n",
    "              tree_method='exact', validate_parameters=1, verbosity=None)"
   ]
  },
  {
   "cell_type": "code",
   "execution_count": 42,
   "metadata": {},
   "outputs": [
    {
     "name": "stdout",
     "output_type": "stream",
     "text": [
      "[08:44:01] WARNING: ../src/learner.cc:541: \n",
      "Parameters: { Lambda } might not be used.\n",
      "\n",
      "  This may not be accurate due to some parameters are only used in language bindings but\n",
      "  passed down to XGBoost core.  Or some parameters are not used but slip through this\n",
      "  verification. Please open an issue if you find above cases.\n",
      "\n",
      "\n"
     ]
    },
    {
     "data": {
      "text/plain": [
       "XGBClassifier(Lambda=1.0, alpha=1.0, base_score=0.5, booster='gbtree',\n",
       "              colsample_bylevel=0.6257870129287602, colsample_bynode=1,\n",
       "              colsample_bytree=1.0, eta=0.3598670326139477,\n",
       "              eval_metric='logloss', gamma=0.0, gpu_id=-1,\n",
       "              importance_type='gain', interaction_constraints='',\n",
       "              learning_rate=0.359867036, max_delta_step=0, max_depth=8,\n",
       "              min_child_weight=1.0, missing=None, monotone_constraints='()',\n",
       "              n_estimators=81, n_jobs=8, num_parallel_tree=1, random_state=55,\n",
       "              reg_alpha=1, reg_lambda=1, scale_pos_weight=1, subsample=1.0,\n",
       "              tree_method='exact', validate_parameters=1, verbosity=None)"
      ]
     },
     "execution_count": 42,
     "metadata": {},
     "output_type": "execute_result"
    }
   ],
   "source": [
    "model.fit(new_X_train, y_train)"
   ]
  },
  {
   "cell_type": "code",
   "execution_count": 43,
   "metadata": {},
   "outputs": [],
   "source": [
    "#y_pred = model.predict(new_X_test)"
   ]
  },
  {
   "cell_type": "code",
   "execution_count": 53,
   "metadata": {},
   "outputs": [],
   "source": [
    "y_pred = model.predict(new_X_test)\n",
    "probas_pred = model.predict_proba(new_X_test)"
   ]
  },
  {
   "cell_type": "code",
   "execution_count": null,
   "metadata": {},
   "outputs": [],
   "source": []
  },
  {
   "cell_type": "code",
   "execution_count": 44,
   "metadata": {},
   "outputs": [],
   "source": [
    "from sklearn.metrics import recall_score\n",
    "from sklearn.metrics import precision_score\n",
    "from sklearn.metrics import confusion_matrix\n",
    "from sklearn.metrics import f1_score"
   ]
  },
  {
   "cell_type": "code",
   "execution_count": 54,
   "metadata": {},
   "outputs": [
    {
     "name": "stdout",
     "output_type": "stream",
     "text": [
      "recall:  0.8023952095808383\n",
      "precision:  0.8993288590604027\n",
      "f1:  0.8481012658227848\n",
      "conf matrix: \n",
      " [[678  15]\n",
      " [ 33 134]]\n"
     ]
    }
   ],
   "source": [
    "print(\"recall: \", recall_score(y_test, y_pred))\n",
    "print(\"precision: \",precision_score(y_test, y_pred))\n",
    "print(\"f1: \",f1_score(y_test,y_pred))\n",
    "print(\"conf matrix: \\n\",confusion_matrix(y_test,y_pred))"
   ]
  },
  {
   "cell_type": "code",
   "execution_count": 58,
   "metadata": {},
   "outputs": [],
   "source": [
    "from sklearn.metrics import r2_score, accuracy_score, confusion_matrix, precision_recall_fscore_support, classification_report, average_precision_score, precision_recall_curve, PrecisionRecallDisplay, RocCurveDisplay,roc_auc_score, roc_curve\n",
    "from sklearn.metrics import make_scorer as score\n",
    "import matplotlib.pyplot as plt"
   ]
  },
  {
   "cell_type": "code",
   "execution_count": 65,
   "metadata": {},
   "outputs": [
    {
     "data": {
      "image/png": "[encoded data removed]",
      "text/plain": [
       "<Figure size 432x288 with 1 Axes>"
      ]
     },
     "metadata": {
      "needs_background": "light"
     },
     "output_type": "display_data"
    }
   ],
   "source": [
    "precision_rt, recall_rt, threshold_rt = precision_recall_curve(y_test, probas_pred[:,1])\n",
    "plt.plot(threshold_rt, precision_rt[1:], label=\"Precision\",linewidth=5)\n",
    "plt.plot(threshold_rt, recall_rt[1:], label=\"Recall\",linewidth=5)\n",
    "plt.title('Precision and recall for different threshold values')\n",
    "plt.xlabel('Threshold')\n",
    "plt.ylabel('Precision/Recall')\n",
    "plt.xlim((0.4,0.5))\n",
    "plt.legend()\n",
    "plt.show()"
   ]
  },
  {
   "cell_type": "code",
   "execution_count": 96,
   "metadata": {},
   "outputs": [
    {
     "data": {
      "text/plain": [
       "0.46777534"
      ]
     },
     "execution_count": 96,
     "metadata": {},
     "output_type": "execute_result"
    }
   ],
   "source": [
    "threshold_rt[24]"
   ]
  },
  {
   "cell_type": "code",
   "execution_count": 94,
   "metadata": {},
   "outputs": [],
   "source": [
    "thresh = threshold_rt[np.argmin(abs(precision_rt[1:] - recall_rt[1:]))]\n",
    "thresh_preds = np.where(probas_pred[:,1]<=thresh,0,1)\n",
    "tn,fp,fn,tp = confusion_matrix(y_test,thresh_preds).ravel()\n",
    "specificity = tn/(tn+fp)\n",
    "sensitivity = tp / (tp + fn)"
   ]
  },
  {
   "cell_type": "code",
   "execution_count": 95,
   "metadata": {},
   "outputs": [
    {
     "name": "stdout",
     "output_type": "stream",
     "text": [
      "recall:  0.8143712574850299\n",
      "precision:  0.8395061728395061\n",
      "f1:  0.8267477203647415\n",
      "specificity:  0.9624819624819625\n",
      "sensitivity:  0.8143712574850299\n",
      "conf matrix: \n",
      " [[667  26]\n",
      " [ 31 136]]\n"
     ]
    }
   ],
   "source": [
    "print(\"recall: \", recall_score(y_test,thresh_preds))\n",
    "print(\"precision: \",precision_score(y_test, thresh_preds))\n",
    "print(\"f1: \",f1_score(y_test,thresh_preds))\n",
    "print(\"specificity: \",specificity)\n",
    "print(\"sensitivity: \",sensitivity)\n",
    "\n",
    "print(\"conf matrix: \\n\",confusion_matrix(y_test,thresh_preds))"
   ]
  },
  {
   "cell_type": "code",
   "execution_count": null,
   "metadata": {},
   "outputs": [],
   "source": []
  }
 ],
 "metadata": {
  "environment": {
   "name": "pytorch-gpu.1-4.m58",
   "type": "gcloud",
   "uri": "gcr.io/deeplearning-platform-release/pytorch-gpu.1-4:m58"
  },
  "kernelspec": {
   "display_name": "Python 3",
   "language": "python",
   "name": "python3"
  },
  "language_info": {
   "codemirror_mode": {
    "name": "ipython",
    "version": 3
   },
   "file_extension": ".py",
   "mimetype": "text/x-python",
   "name": "python",
   "nbconvert_exporter": "python",
   "pygments_lexer": "ipython3",
   "version": "3.7.6"
  }
 },
 "nbformat": 4,
 "nbformat_minor": 4
}
